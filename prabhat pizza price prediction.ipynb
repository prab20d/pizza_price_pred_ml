{
 "cells": [
  {
   "cell_type": "markdown",
   "id": "96435d95",
   "metadata": {},
   "source": [
    "# Step 1: Problem Satement"
   ]
  },
  {
   "cell_type": "raw",
   "id": "f455a251",
   "metadata": {},
   "source": [
    "predict the price of pizza depending on various parameter from the dataset."
   ]
  },
  {
   "cell_type": "markdown",
   "id": "57aed234",
   "metadata": {},
   "source": [
    "# Step 2: Data Gathering"
   ]
  },
  {
   "cell_type": "raw",
   "id": "af1829af",
   "metadata": {},
   "source": [
    "# importing  basic libraries "
   ]
  },
  {
   "cell_type": "code",
   "execution_count": 2,
   "id": "5aebc81e",
   "metadata": {},
   "outputs": [],
   "source": [
    "import pandas as pd\n",
    "import numpy as np \n",
    "from random import randint\n",
    "from scipy import stats\n",
    "import os\n",
    "\n",
    "#for date time\n",
    "import datetime\n",
    "from datetime import datetime as dt\n",
    "\n",
    "# for data visualization \n",
    "import matplotlib.pyplot as plt\n",
    "import matplotlib.cm as cm\n",
    "%matplotlib inline\n",
    "\n",
    "# from pandas_profiling import ProfileReport\n",
    "import seaborn as sns\n",
    "import plotly.express as px\n",
    "from plotly.offline import plot\n",
    "import plotly.graph_objects as go\n",
    "from plotly.subplots import make_subplots\n",
    "\n",
    "# to disable warnings\n",
    "import warnings\n",
    "warnings.filterwarnings(action=\"ignore\")"
   ]
  },
  {
   "cell_type": "code",
   "execution_count": 3,
   "id": "4eebb2d9",
   "metadata": {},
   "outputs": [
    {
     "data": {
      "text/plain": [
       "'C:\\\\dec_end\\\\ml_project\\\\pizza_price_prediction\\\\Dataset\\\\pizza_v1.csv'"
      ]
     },
     "execution_count": 3,
     "metadata": {},
     "output_type": "execute_result"
    }
   ],
   "source": [
    "folder=r'C:\\dec_end\\ml_project\\pizza_price_prediction\\Dataset'\n",
    "file=r'pizza_v1.csv'\n",
    "path=os.path.join(folder,file)\n",
    "path"
   ]
  },
  {
   "cell_type": "code",
   "execution_count": 4,
   "id": "fe4968a0",
   "metadata": {},
   "outputs": [
    {
     "data": {
      "text/html": [
       "<div>\n",
       "<style scoped>\n",
       "    .dataframe tbody tr th:only-of-type {\n",
       "        vertical-align: middle;\n",
       "    }\n",
       "\n",
       "    .dataframe tbody tr th {\n",
       "        vertical-align: top;\n",
       "    }\n",
       "\n",
       "    .dataframe thead th {\n",
       "        text-align: right;\n",
       "    }\n",
       "</style>\n",
       "<table border=\"1\" class=\"dataframe\">\n",
       "  <thead>\n",
       "    <tr style=\"text-align: right;\">\n",
       "      <th></th>\n",
       "      <th>company</th>\n",
       "      <th>price_rupiah</th>\n",
       "      <th>diameter</th>\n",
       "      <th>topping</th>\n",
       "      <th>variant</th>\n",
       "      <th>size</th>\n",
       "      <th>extra_sauce</th>\n",
       "      <th>extra_cheese</th>\n",
       "    </tr>\n",
       "  </thead>\n",
       "  <tbody>\n",
       "    <tr>\n",
       "      <th>0</th>\n",
       "      <td>A</td>\n",
       "      <td>Rp235,000</td>\n",
       "      <td>22.0</td>\n",
       "      <td>chicken</td>\n",
       "      <td>double_signature</td>\n",
       "      <td>jumbo</td>\n",
       "      <td>yes</td>\n",
       "      <td>yes</td>\n",
       "    </tr>\n",
       "    <tr>\n",
       "      <th>1</th>\n",
       "      <td>A</td>\n",
       "      <td>Rp198,000</td>\n",
       "      <td>20.0</td>\n",
       "      <td>papperoni</td>\n",
       "      <td>double_signature</td>\n",
       "      <td>jumbo</td>\n",
       "      <td>yes</td>\n",
       "      <td>yes</td>\n",
       "    </tr>\n",
       "    <tr>\n",
       "      <th>2</th>\n",
       "      <td>A</td>\n",
       "      <td>Rp120,000</td>\n",
       "      <td>16.0</td>\n",
       "      <td>mushrooms</td>\n",
       "      <td>double_signature</td>\n",
       "      <td>reguler</td>\n",
       "      <td>yes</td>\n",
       "      <td>yes</td>\n",
       "    </tr>\n",
       "    <tr>\n",
       "      <th>3</th>\n",
       "      <td>A</td>\n",
       "      <td>Rp155,000</td>\n",
       "      <td>14.0</td>\n",
       "      <td>smoked beef</td>\n",
       "      <td>double_signature</td>\n",
       "      <td>reguler</td>\n",
       "      <td>yes</td>\n",
       "      <td>no</td>\n",
       "    </tr>\n",
       "    <tr>\n",
       "      <th>4</th>\n",
       "      <td>A</td>\n",
       "      <td>Rp248,000</td>\n",
       "      <td>18.0</td>\n",
       "      <td>mozzarella</td>\n",
       "      <td>double_signature</td>\n",
       "      <td>jumbo</td>\n",
       "      <td>yes</td>\n",
       "      <td>no</td>\n",
       "    </tr>\n",
       "    <tr>\n",
       "      <th>...</th>\n",
       "      <td>...</td>\n",
       "      <td>...</td>\n",
       "      <td>...</td>\n",
       "      <td>...</td>\n",
       "      <td>...</td>\n",
       "      <td>...</td>\n",
       "      <td>...</td>\n",
       "      <td>...</td>\n",
       "    </tr>\n",
       "    <tr>\n",
       "      <th>124</th>\n",
       "      <td>E</td>\n",
       "      <td>Rp39,000</td>\n",
       "      <td>8.5</td>\n",
       "      <td>tuna</td>\n",
       "      <td>spicy tuna</td>\n",
       "      <td>small</td>\n",
       "      <td>yes</td>\n",
       "      <td>yes</td>\n",
       "    </tr>\n",
       "    <tr>\n",
       "      <th>125</th>\n",
       "      <td>E</td>\n",
       "      <td>Rp72,000</td>\n",
       "      <td>12.0</td>\n",
       "      <td>tuna</td>\n",
       "      <td>spicy tuna</td>\n",
       "      <td>medium</td>\n",
       "      <td>yes</td>\n",
       "      <td>yes</td>\n",
       "    </tr>\n",
       "    <tr>\n",
       "      <th>126</th>\n",
       "      <td>E</td>\n",
       "      <td>Rp99,000</td>\n",
       "      <td>14.0</td>\n",
       "      <td>tuna</td>\n",
       "      <td>spicy tuna</td>\n",
       "      <td>large</td>\n",
       "      <td>yes</td>\n",
       "      <td>yes</td>\n",
       "    </tr>\n",
       "    <tr>\n",
       "      <th>127</th>\n",
       "      <td>E</td>\n",
       "      <td>Rp44,000</td>\n",
       "      <td>8.5</td>\n",
       "      <td>meat</td>\n",
       "      <td>BBQ_meat_fiesta</td>\n",
       "      <td>small</td>\n",
       "      <td>yes</td>\n",
       "      <td>no</td>\n",
       "    </tr>\n",
       "    <tr>\n",
       "      <th>128</th>\n",
       "      <td>E</td>\n",
       "      <td>Rp78,000</td>\n",
       "      <td>12.0</td>\n",
       "      <td>meat</td>\n",
       "      <td>BBQ_meat_fiesta</td>\n",
       "      <td>medium</td>\n",
       "      <td>no</td>\n",
       "      <td>no</td>\n",
       "    </tr>\n",
       "  </tbody>\n",
       "</table>\n",
       "<p>129 rows × 8 columns</p>\n",
       "</div>"
      ],
      "text/plain": [
       "    company price_rupiah  diameter      topping           variant     size  \\\n",
       "0         A    Rp235,000      22.0      chicken  double_signature    jumbo   \n",
       "1         A    Rp198,000      20.0    papperoni  double_signature    jumbo   \n",
       "2         A    Rp120,000      16.0    mushrooms  double_signature  reguler   \n",
       "3         A    Rp155,000      14.0  smoked beef  double_signature  reguler   \n",
       "4         A    Rp248,000      18.0   mozzarella  double_signature    jumbo   \n",
       "..      ...          ...       ...          ...               ...      ...   \n",
       "124       E     Rp39,000       8.5         tuna        spicy tuna    small   \n",
       "125       E     Rp72,000      12.0         tuna        spicy tuna   medium   \n",
       "126       E     Rp99,000      14.0         tuna        spicy tuna    large   \n",
       "127       E     Rp44,000       8.5         meat   BBQ_meat_fiesta    small   \n",
       "128       E     Rp78,000      12.0         meat   BBQ_meat_fiesta   medium   \n",
       "\n",
       "    extra_sauce extra_cheese  \n",
       "0           yes          yes  \n",
       "1           yes          yes  \n",
       "2           yes          yes  \n",
       "3           yes           no  \n",
       "4           yes           no  \n",
       "..          ...          ...  \n",
       "124         yes          yes  \n",
       "125         yes          yes  \n",
       "126         yes          yes  \n",
       "127         yes           no  \n",
       "128          no           no  \n",
       "\n",
       "[129 rows x 8 columns]"
      ]
     },
     "execution_count": 4,
     "metadata": {},
     "output_type": "execute_result"
    }
   ],
   "source": [
    "data=pd.read_csv(path)\n",
    "data"
   ]
  },
  {
   "cell_type": "code",
   "execution_count": 5,
   "id": "d39c2fea",
   "metadata": {},
   "outputs": [
    {
     "data": {
      "text/plain": [
       "'C:\\\\dec_end\\\\ml_project\\\\pizza_price_prediction\\\\Dataset\\\\pizza_v2.csv'"
      ]
     },
     "execution_count": 5,
     "metadata": {},
     "output_type": "execute_result"
    }
   ],
   "source": [
    "folder=r'C:\\dec_end\\ml_project\\pizza_price_prediction\\Dataset'\n",
    "file2=r'pizza_v2.csv'\n",
    "path2=os.path.join(folder,file2)\n",
    "path2"
   ]
  },
  {
   "cell_type": "code",
   "execution_count": 6,
   "id": "067ac35a",
   "metadata": {},
   "outputs": [
    {
     "data": {
      "text/html": [
       "<div>\n",
       "<style scoped>\n",
       "    .dataframe tbody tr th:only-of-type {\n",
       "        vertical-align: middle;\n",
       "    }\n",
       "\n",
       "    .dataframe tbody tr th {\n",
       "        vertical-align: top;\n",
       "    }\n",
       "\n",
       "    .dataframe thead th {\n",
       "        text-align: right;\n",
       "    }\n",
       "</style>\n",
       "<table border=\"1\" class=\"dataframe\">\n",
       "  <thead>\n",
       "    <tr style=\"text-align: right;\">\n",
       "      <th></th>\n",
       "      <th>company</th>\n",
       "      <th>price_rupiah</th>\n",
       "      <th>diameter</th>\n",
       "      <th>topping</th>\n",
       "      <th>variant</th>\n",
       "      <th>size</th>\n",
       "      <th>extra_sauce</th>\n",
       "      <th>extra_cheese</th>\n",
       "    </tr>\n",
       "  </thead>\n",
       "  <tbody>\n",
       "    <tr>\n",
       "      <th>0</th>\n",
       "      <td>A</td>\n",
       "      <td>Rp235,000</td>\n",
       "      <td>22.0</td>\n",
       "      <td>chicken</td>\n",
       "      <td>double_signature</td>\n",
       "      <td>jumbo</td>\n",
       "      <td>yes</td>\n",
       "      <td>yes</td>\n",
       "    </tr>\n",
       "    <tr>\n",
       "      <th>1</th>\n",
       "      <td>A</td>\n",
       "      <td>Rp198,000</td>\n",
       "      <td>20.0</td>\n",
       "      <td>papperoni</td>\n",
       "      <td>double_signature</td>\n",
       "      <td>jumbo</td>\n",
       "      <td>yes</td>\n",
       "      <td>yes</td>\n",
       "    </tr>\n",
       "    <tr>\n",
       "      <th>2</th>\n",
       "      <td>A</td>\n",
       "      <td>Rp120,000</td>\n",
       "      <td>16.0</td>\n",
       "      <td>mushrooms</td>\n",
       "      <td>double_signature</td>\n",
       "      <td>reguler</td>\n",
       "      <td>yes</td>\n",
       "      <td>yes</td>\n",
       "    </tr>\n",
       "    <tr>\n",
       "      <th>3</th>\n",
       "      <td>A</td>\n",
       "      <td>Rp155,000</td>\n",
       "      <td>14.0</td>\n",
       "      <td>smoked beef</td>\n",
       "      <td>double_signature</td>\n",
       "      <td>reguler</td>\n",
       "      <td>yes</td>\n",
       "      <td>no</td>\n",
       "    </tr>\n",
       "    <tr>\n",
       "      <th>4</th>\n",
       "      <td>A</td>\n",
       "      <td>Rp248,000</td>\n",
       "      <td>18.0</td>\n",
       "      <td>mozzarella</td>\n",
       "      <td>double_signature</td>\n",
       "      <td>jumbo</td>\n",
       "      <td>yes</td>\n",
       "      <td>no</td>\n",
       "    </tr>\n",
       "    <tr>\n",
       "      <th>...</th>\n",
       "      <td>...</td>\n",
       "      <td>...</td>\n",
       "      <td>...</td>\n",
       "      <td>...</td>\n",
       "      <td>...</td>\n",
       "      <td>...</td>\n",
       "      <td>...</td>\n",
       "      <td>...</td>\n",
       "    </tr>\n",
       "    <tr>\n",
       "      <th>124</th>\n",
       "      <td>E</td>\n",
       "      <td>Rp39,000</td>\n",
       "      <td>8.5</td>\n",
       "      <td>tuna</td>\n",
       "      <td>spicy tuna</td>\n",
       "      <td>small</td>\n",
       "      <td>yes</td>\n",
       "      <td>yes</td>\n",
       "    </tr>\n",
       "    <tr>\n",
       "      <th>125</th>\n",
       "      <td>E</td>\n",
       "      <td>Rp72,000</td>\n",
       "      <td>12.0</td>\n",
       "      <td>tuna</td>\n",
       "      <td>spicy tuna</td>\n",
       "      <td>medium</td>\n",
       "      <td>yes</td>\n",
       "      <td>yes</td>\n",
       "    </tr>\n",
       "    <tr>\n",
       "      <th>126</th>\n",
       "      <td>E</td>\n",
       "      <td>Rp99,000</td>\n",
       "      <td>14.0</td>\n",
       "      <td>tuna</td>\n",
       "      <td>spicy tuna</td>\n",
       "      <td>large</td>\n",
       "      <td>yes</td>\n",
       "      <td>yes</td>\n",
       "    </tr>\n",
       "    <tr>\n",
       "      <th>127</th>\n",
       "      <td>E</td>\n",
       "      <td>Rp44,000</td>\n",
       "      <td>8.5</td>\n",
       "      <td>meat</td>\n",
       "      <td>BBQ_meat_fiesta</td>\n",
       "      <td>small</td>\n",
       "      <td>yes</td>\n",
       "      <td>no</td>\n",
       "    </tr>\n",
       "    <tr>\n",
       "      <th>128</th>\n",
       "      <td>E</td>\n",
       "      <td>Rp78,000</td>\n",
       "      <td>12.0</td>\n",
       "      <td>meat</td>\n",
       "      <td>BBQ_meat_fiesta</td>\n",
       "      <td>medium</td>\n",
       "      <td>no</td>\n",
       "      <td>no</td>\n",
       "    </tr>\n",
       "  </tbody>\n",
       "</table>\n",
       "<p>129 rows × 8 columns</p>\n",
       "</div>"
      ],
      "text/plain": [
       "    company price_rupiah  diameter      topping           variant     size  \\\n",
       "0         A    Rp235,000      22.0      chicken  double_signature    jumbo   \n",
       "1         A    Rp198,000      20.0    papperoni  double_signature    jumbo   \n",
       "2         A    Rp120,000      16.0    mushrooms  double_signature  reguler   \n",
       "3         A    Rp155,000      14.0  smoked beef  double_signature  reguler   \n",
       "4         A    Rp248,000      18.0   mozzarella  double_signature    jumbo   \n",
       "..      ...          ...       ...          ...               ...      ...   \n",
       "124       E     Rp39,000       8.5         tuna        spicy tuna    small   \n",
       "125       E     Rp72,000      12.0         tuna        spicy tuna   medium   \n",
       "126       E     Rp99,000      14.0         tuna        spicy tuna    large   \n",
       "127       E     Rp44,000       8.5         meat   BBQ_meat_fiesta    small   \n",
       "128       E     Rp78,000      12.0         meat   BBQ_meat_fiesta   medium   \n",
       "\n",
       "    extra_sauce extra_cheese  \n",
       "0           yes          yes  \n",
       "1           yes          yes  \n",
       "2           yes          yes  \n",
       "3           yes           no  \n",
       "4           yes           no  \n",
       "..          ...          ...  \n",
       "124         yes          yes  \n",
       "125         yes          yes  \n",
       "126         yes          yes  \n",
       "127         yes           no  \n",
       "128          no           no  \n",
       "\n",
       "[129 rows x 8 columns]"
      ]
     },
     "execution_count": 6,
     "metadata": {},
     "output_type": "execute_result"
    }
   ],
   "source": [
    "data2=pd.read_csv(path)\n",
    "data2"
   ]
  },
  {
   "cell_type": "code",
   "execution_count": 7,
   "id": "449e9a31",
   "metadata": {},
   "outputs": [
    {
     "data": {
      "text/plain": [
       "(129, 8)"
      ]
     },
     "execution_count": 7,
     "metadata": {},
     "output_type": "execute_result"
    }
   ],
   "source": [
    "data.shape"
   ]
  },
  {
   "cell_type": "code",
   "execution_count": 8,
   "id": "c3cfebfc",
   "metadata": {},
   "outputs": [
    {
     "data": {
      "text/plain": [
       "(129, 8)"
      ]
     },
     "execution_count": 8,
     "metadata": {},
     "output_type": "execute_result"
    }
   ],
   "source": [
    "data2.shape"
   ]
  },
  {
   "cell_type": "markdown",
   "id": "b944ab47",
   "metadata": {},
   "source": [
    "# Step 3: EDA"
   ]
  },
  {
   "cell_type": "markdown",
   "id": "276761c1",
   "metadata": {},
   "source": [
    "### 3.1 Display top 5 rows of dataset."
   ]
  },
  {
   "cell_type": "code",
   "execution_count": 9,
   "id": "3f7c7f58",
   "metadata": {},
   "outputs": [
    {
     "data": {
      "text/html": [
       "<div>\n",
       "<style scoped>\n",
       "    .dataframe tbody tr th:only-of-type {\n",
       "        vertical-align: middle;\n",
       "    }\n",
       "\n",
       "    .dataframe tbody tr th {\n",
       "        vertical-align: top;\n",
       "    }\n",
       "\n",
       "    .dataframe thead th {\n",
       "        text-align: right;\n",
       "    }\n",
       "</style>\n",
       "<table border=\"1\" class=\"dataframe\">\n",
       "  <thead>\n",
       "    <tr style=\"text-align: right;\">\n",
       "      <th></th>\n",
       "      <th>company</th>\n",
       "      <th>price_rupiah</th>\n",
       "      <th>diameter</th>\n",
       "      <th>topping</th>\n",
       "      <th>variant</th>\n",
       "      <th>size</th>\n",
       "      <th>extra_sauce</th>\n",
       "      <th>extra_cheese</th>\n",
       "    </tr>\n",
       "  </thead>\n",
       "  <tbody>\n",
       "    <tr>\n",
       "      <th>0</th>\n",
       "      <td>A</td>\n",
       "      <td>Rp235,000</td>\n",
       "      <td>22.0</td>\n",
       "      <td>chicken</td>\n",
       "      <td>double_signature</td>\n",
       "      <td>jumbo</td>\n",
       "      <td>yes</td>\n",
       "      <td>yes</td>\n",
       "    </tr>\n",
       "    <tr>\n",
       "      <th>1</th>\n",
       "      <td>A</td>\n",
       "      <td>Rp198,000</td>\n",
       "      <td>20.0</td>\n",
       "      <td>papperoni</td>\n",
       "      <td>double_signature</td>\n",
       "      <td>jumbo</td>\n",
       "      <td>yes</td>\n",
       "      <td>yes</td>\n",
       "    </tr>\n",
       "    <tr>\n",
       "      <th>2</th>\n",
       "      <td>A</td>\n",
       "      <td>Rp120,000</td>\n",
       "      <td>16.0</td>\n",
       "      <td>mushrooms</td>\n",
       "      <td>double_signature</td>\n",
       "      <td>reguler</td>\n",
       "      <td>yes</td>\n",
       "      <td>yes</td>\n",
       "    </tr>\n",
       "    <tr>\n",
       "      <th>3</th>\n",
       "      <td>A</td>\n",
       "      <td>Rp155,000</td>\n",
       "      <td>14.0</td>\n",
       "      <td>smoked beef</td>\n",
       "      <td>double_signature</td>\n",
       "      <td>reguler</td>\n",
       "      <td>yes</td>\n",
       "      <td>no</td>\n",
       "    </tr>\n",
       "    <tr>\n",
       "      <th>4</th>\n",
       "      <td>A</td>\n",
       "      <td>Rp248,000</td>\n",
       "      <td>18.0</td>\n",
       "      <td>mozzarella</td>\n",
       "      <td>double_signature</td>\n",
       "      <td>jumbo</td>\n",
       "      <td>yes</td>\n",
       "      <td>no</td>\n",
       "    </tr>\n",
       "  </tbody>\n",
       "</table>\n",
       "</div>"
      ],
      "text/plain": [
       "  company price_rupiah  diameter      topping           variant     size  \\\n",
       "0       A    Rp235,000      22.0      chicken  double_signature    jumbo   \n",
       "1       A    Rp198,000      20.0    papperoni  double_signature    jumbo   \n",
       "2       A    Rp120,000      16.0    mushrooms  double_signature  reguler   \n",
       "3       A    Rp155,000      14.0  smoked beef  double_signature  reguler   \n",
       "4       A    Rp248,000      18.0   mozzarella  double_signature    jumbo   \n",
       "\n",
       "  extra_sauce extra_cheese  \n",
       "0         yes          yes  \n",
       "1         yes          yes  \n",
       "2         yes          yes  \n",
       "3         yes           no  \n",
       "4         yes           no  "
      ]
     },
     "execution_count": 9,
     "metadata": {},
     "output_type": "execute_result"
    }
   ],
   "source": [
    "data.head()"
   ]
  },
  {
   "cell_type": "markdown",
   "id": "c2c7095a",
   "metadata": {},
   "source": [
    "### 3.2. Display end 5 rows of dataset."
   ]
  },
  {
   "cell_type": "code",
   "execution_count": 10,
   "id": "8402c002",
   "metadata": {},
   "outputs": [
    {
     "data": {
      "text/html": [
       "<div>\n",
       "<style scoped>\n",
       "    .dataframe tbody tr th:only-of-type {\n",
       "        vertical-align: middle;\n",
       "    }\n",
       "\n",
       "    .dataframe tbody tr th {\n",
       "        vertical-align: top;\n",
       "    }\n",
       "\n",
       "    .dataframe thead th {\n",
       "        text-align: right;\n",
       "    }\n",
       "</style>\n",
       "<table border=\"1\" class=\"dataframe\">\n",
       "  <thead>\n",
       "    <tr style=\"text-align: right;\">\n",
       "      <th></th>\n",
       "      <th>company</th>\n",
       "      <th>price_rupiah</th>\n",
       "      <th>diameter</th>\n",
       "      <th>topping</th>\n",
       "      <th>variant</th>\n",
       "      <th>size</th>\n",
       "      <th>extra_sauce</th>\n",
       "      <th>extra_cheese</th>\n",
       "    </tr>\n",
       "  </thead>\n",
       "  <tbody>\n",
       "    <tr>\n",
       "      <th>124</th>\n",
       "      <td>E</td>\n",
       "      <td>Rp39,000</td>\n",
       "      <td>8.5</td>\n",
       "      <td>tuna</td>\n",
       "      <td>spicy tuna</td>\n",
       "      <td>small</td>\n",
       "      <td>yes</td>\n",
       "      <td>yes</td>\n",
       "    </tr>\n",
       "    <tr>\n",
       "      <th>125</th>\n",
       "      <td>E</td>\n",
       "      <td>Rp72,000</td>\n",
       "      <td>12.0</td>\n",
       "      <td>tuna</td>\n",
       "      <td>spicy tuna</td>\n",
       "      <td>medium</td>\n",
       "      <td>yes</td>\n",
       "      <td>yes</td>\n",
       "    </tr>\n",
       "    <tr>\n",
       "      <th>126</th>\n",
       "      <td>E</td>\n",
       "      <td>Rp99,000</td>\n",
       "      <td>14.0</td>\n",
       "      <td>tuna</td>\n",
       "      <td>spicy tuna</td>\n",
       "      <td>large</td>\n",
       "      <td>yes</td>\n",
       "      <td>yes</td>\n",
       "    </tr>\n",
       "    <tr>\n",
       "      <th>127</th>\n",
       "      <td>E</td>\n",
       "      <td>Rp44,000</td>\n",
       "      <td>8.5</td>\n",
       "      <td>meat</td>\n",
       "      <td>BBQ_meat_fiesta</td>\n",
       "      <td>small</td>\n",
       "      <td>yes</td>\n",
       "      <td>no</td>\n",
       "    </tr>\n",
       "    <tr>\n",
       "      <th>128</th>\n",
       "      <td>E</td>\n",
       "      <td>Rp78,000</td>\n",
       "      <td>12.0</td>\n",
       "      <td>meat</td>\n",
       "      <td>BBQ_meat_fiesta</td>\n",
       "      <td>medium</td>\n",
       "      <td>no</td>\n",
       "      <td>no</td>\n",
       "    </tr>\n",
       "  </tbody>\n",
       "</table>\n",
       "</div>"
      ],
      "text/plain": [
       "    company price_rupiah  diameter topping          variant    size  \\\n",
       "124       E     Rp39,000       8.5    tuna       spicy tuna   small   \n",
       "125       E     Rp72,000      12.0    tuna       spicy tuna  medium   \n",
       "126       E     Rp99,000      14.0    tuna       spicy tuna   large   \n",
       "127       E     Rp44,000       8.5    meat  BBQ_meat_fiesta   small   \n",
       "128       E     Rp78,000      12.0    meat  BBQ_meat_fiesta  medium   \n",
       "\n",
       "    extra_sauce extra_cheese  \n",
       "124         yes          yes  \n",
       "125         yes          yes  \n",
       "126         yes          yes  \n",
       "127         yes           no  \n",
       "128          no           no  "
      ]
     },
     "execution_count": 10,
     "metadata": {},
     "output_type": "execute_result"
    }
   ],
   "source": [
    "data.tail()"
   ]
  },
  {
   "cell_type": "markdown",
   "id": "0d263677",
   "metadata": {},
   "source": [
    "### 3.3 Display random 5 rows of dataset."
   ]
  },
  {
   "cell_type": "code",
   "execution_count": 11,
   "id": "a41a7549",
   "metadata": {},
   "outputs": [
    {
     "data": {
      "text/html": [
       "<div>\n",
       "<style scoped>\n",
       "    .dataframe tbody tr th:only-of-type {\n",
       "        vertical-align: middle;\n",
       "    }\n",
       "\n",
       "    .dataframe tbody tr th {\n",
       "        vertical-align: top;\n",
       "    }\n",
       "\n",
       "    .dataframe thead th {\n",
       "        text-align: right;\n",
       "    }\n",
       "</style>\n",
       "<table border=\"1\" class=\"dataframe\">\n",
       "  <thead>\n",
       "    <tr style=\"text-align: right;\">\n",
       "      <th></th>\n",
       "      <th>company</th>\n",
       "      <th>price_rupiah</th>\n",
       "      <th>diameter</th>\n",
       "      <th>topping</th>\n",
       "      <th>variant</th>\n",
       "      <th>size</th>\n",
       "      <th>extra_sauce</th>\n",
       "      <th>extra_cheese</th>\n",
       "    </tr>\n",
       "  </thead>\n",
       "  <tbody>\n",
       "    <tr>\n",
       "      <th>29</th>\n",
       "      <td>B</td>\n",
       "      <td>Rp83,000</td>\n",
       "      <td>17.0</td>\n",
       "      <td>chicken</td>\n",
       "      <td>new_york</td>\n",
       "      <td>XL</td>\n",
       "      <td>no</td>\n",
       "      <td>yes</td>\n",
       "    </tr>\n",
       "  </tbody>\n",
       "</table>\n",
       "</div>"
      ],
      "text/plain": [
       "   company price_rupiah  diameter  topping   variant size extra_sauce  \\\n",
       "29       B     Rp83,000      17.0  chicken  new_york   XL          no   \n",
       "\n",
       "   extra_cheese  \n",
       "29          yes  "
      ]
     },
     "execution_count": 11,
     "metadata": {},
     "output_type": "execute_result"
    }
   ],
   "source": [
    "data.sample()"
   ]
  },
  {
   "cell_type": "markdown",
   "id": "67877cf7",
   "metadata": {},
   "source": [
    "### 3.4 find shape of dataset. row number and column no."
   ]
  },
  {
   "cell_type": "code",
   "execution_count": 12,
   "id": "a75c4c28",
   "metadata": {},
   "outputs": [
    {
     "name": "stdout",
     "output_type": "stream",
     "text": [
      "number of row in dataset is : 129\n",
      "number of features in dataset is : 8\n",
      "shape of dataset is : (129, 8)\n"
     ]
    }
   ],
   "source": [
    "print(f\"number of row in dataset is : {data.shape[0]}\")\n",
    "print(f\"number of features in dataset is : {data.shape[1]}\")\n",
    "print(f\"shape of dataset is : {data.shape}\")"
   ]
  },
  {
   "cell_type": "markdown",
   "id": "bd6a1238",
   "metadata": {},
   "source": [
    "### 3.5 get information about dataset like total  number of rows , total number of col, memory"
   ]
  },
  {
   "cell_type": "code",
   "execution_count": null,
   "id": "760abd68",
   "metadata": {},
   "outputs": [],
   "source": [
    "data.info()"
   ]
  },
  {
   "cell_type": "code",
   "execution_count": null,
   "id": "f5dca0d7",
   "metadata": {},
   "outputs": [],
   "source": [
    "data.describe()"
   ]
  },
  {
   "cell_type": "markdown",
   "id": "88da785c",
   "metadata": {},
   "source": [
    "### 3.6 check the Null values in dataset"
   ]
  },
  {
   "cell_type": "code",
   "execution_count": null,
   "id": "617e4d0e",
   "metadata": {},
   "outputs": [],
   "source": [
    "data.isna().sum()"
   ]
  },
  {
   "cell_type": "code",
   "execution_count": null,
   "id": "c74a3e31",
   "metadata": {},
   "outputs": [],
   "source": [
    "#null and missing data dataframe percentage\n",
    "\n",
    "null_frame=pd.DataFrame(index=data.columns.values)\n",
    "null_frame['Null Frequency']=data.isnull().sum().values\n",
    "percent=data.isnull().sum().values/data.shape[0]\n",
    "null_frame['Missing %age']=np.round(percent, decimals=4)*100\n",
    "null_frame.transpose()"
   ]
  },
  {
   "cell_type": "markdown",
   "id": "64fefed8",
   "metadata": {},
   "source": [
    "### 3.6.1 calculating number of Zeros in dataset  i.e. not possible "
   ]
  },
  {
   "cell_type": "code",
   "execution_count": null,
   "id": "75396c7e",
   "metadata": {},
   "outputs": [],
   "source": [
    "data.columns"
   ]
  },
  {
   "cell_type": "code",
   "execution_count": null,
   "id": "5939aef0",
   "metadata": {},
   "outputs": [],
   "source": [
    "data_copy=data.copy(deep=True)"
   ]
  },
  {
   "cell_type": "code",
   "execution_count": null,
   "id": "43d79485",
   "metadata": {},
   "outputs": [],
   "source": [
    "# as zero 0 value means not proper entry we will replace it by nan \n",
    "data_copy[['company', 'price_rupiah', 'diameter', 'topping', 'variant', 'size',\n",
    "       'extra_sauce', 'extra_cheese']]=data_copy[['company', 'price_rupiah', 'diameter', 'topping', 'variant', 'size',\n",
    "       'extra_sauce', 'extra_cheese']].replace(0,np.nan)"
   ]
  },
  {
   "cell_type": "code",
   "execution_count": null,
   "id": "d41f417c",
   "metadata": {},
   "outputs": [],
   "source": [
    "data_copy.isna().sum()"
   ]
  },
  {
   "cell_type": "markdown",
   "id": "13668177",
   "metadata": {},
   "source": [
    "### 3.7 get overall statistics about the dataset."
   ]
  },
  {
   "cell_type": "code",
   "execution_count": null,
   "id": "40443d10",
   "metadata": {},
   "outputs": [],
   "source": [
    "data.describe(include='all')"
   ]
  },
  {
   "cell_type": "markdown",
   "id": "1f7855e1",
   "metadata": {},
   "source": [
    "### 3.8 Distribution of data"
   ]
  },
  {
   "cell_type": "code",
   "execution_count": null,
   "id": "012f9c82",
   "metadata": {},
   "outputs": [],
   "source": [
    "data['price_rupiah'].value_counts()"
   ]
  },
  {
   "cell_type": "markdown",
   "id": "24d69ade",
   "metadata": {},
   "source": [
    "### 3.10 Checking duplicate and remove duplicate datapoints."
   ]
  },
  {
   "cell_type": "code",
   "execution_count": null,
   "id": "bd304b61",
   "metadata": {},
   "outputs": [],
   "source": [
    "duplicate=data[data.duplicated()]\n",
    "duplicate"
   ]
  },
  {
   "cell_type": "code",
   "execution_count": null,
   "id": "75682be1",
   "metadata": {},
   "outputs": [],
   "source": [
    "print('conatins redudant records ',data_copy.duplicated().any())\n",
    "print('duplicated count',data_copy.duplicated().sum())\n",
    "print('data shape',data_copy.shape)"
   ]
  },
  {
   "cell_type": "markdown",
   "id": "f88daa41",
   "metadata": {},
   "source": [
    "### data preprocessing"
   ]
  },
  {
   "cell_type": "code",
   "execution_count": null,
   "id": "98ca8a3f",
   "metadata": {},
   "outputs": [],
   "source": [
    "data.head()"
   ]
  },
  {
   "cell_type": "code",
   "execution_count": null,
   "id": "6db9071f",
   "metadata": {},
   "outputs": [],
   "source": [
    "# remove rp from features  \n",
    "data.rename ({'price_rupiah':'Price'},axis=1,inplace=True)\n",
    "data.head()"
   ]
  },
  {
   "cell_type": "code",
   "execution_count": null,
   "id": "6bfaf219",
   "metadata": {},
   "outputs": [],
   "source": [
    "data['Price']=data['Price'].str.replace(\"Rp\",\"\")"
   ]
  },
  {
   "cell_type": "code",
   "execution_count": null,
   "id": "fc12f484",
   "metadata": {},
   "outputs": [],
   "source": [
    "data.head()"
   ]
  },
  {
   "cell_type": "code",
   "execution_count": null,
   "id": "91e2dd16",
   "metadata": {},
   "outputs": [],
   "source": [
    "data['Price']=data['Price'].str.replace(\",\",\"\").astype('int32')\n",
    "data.head()"
   ]
  },
  {
   "cell_type": "code",
   "execution_count": null,
   "id": "49e96a98",
   "metadata": {},
   "outputs": [],
   "source": [
    "data.info()"
   ]
  },
  {
   "cell_type": "code",
   "execution_count": null,
   "id": "e50ce629",
   "metadata": {},
   "outputs": [],
   "source": [
    "# convert rupiah to indian rupees \n",
    "\n",
    "def convert(value):\n",
    "    return value*0.0054\n"
   ]
  },
  {
   "cell_type": "code",
   "execution_count": null,
   "id": "362bc881",
   "metadata": {},
   "outputs": [],
   "source": [
    "data['Price']=data['Price'].apply(convert)\n",
    "data.head()"
   ]
  },
  {
   "cell_type": "code",
   "execution_count": null,
   "id": "f555dc72",
   "metadata": {},
   "outputs": [],
   "source": [
    "data['diameter']=data['diameter'].astype('float32')\n",
    "data['diameter'].dtype"
   ]
  },
  {
   "cell_type": "markdown",
   "id": "8c8d5e1b",
   "metadata": {},
   "source": [
    "### 3.11 univariate analysis"
   ]
  },
  {
   "cell_type": "raw",
   "id": "fc474af4",
   "metadata": {},
   "source": [
    "df.column.hist()\n",
    "plt.show() ---numerical features\n",
    "\n",
    "sns.countplot(df.col)\n",
    "plt.show()"
   ]
  },
  {
   "cell_type": "code",
   "execution_count": null,
   "id": "e02eedb9",
   "metadata": {},
   "outputs": [],
   "source": [
    "data.columns"
   ]
  },
  {
   "cell_type": "code",
   "execution_count": null,
   "id": "14d9831a",
   "metadata": {},
   "outputs": [],
   "source": [
    "data['company'].value_counts()"
   ]
  },
  {
   "cell_type": "markdown",
   "id": "4bb5b950",
   "metadata": {},
   "source": [
    "####  price"
   ]
  },
  {
   "cell_type": "code",
   "execution_count": null,
   "id": "2fff6f24",
   "metadata": {},
   "outputs": [],
   "source": [
    "import matplotlib.pyplot as plt\n",
    "plt.hist(x='Price',data=data)\n",
    "plt.title(\"price distribution\")\n",
    "plt.show()"
   ]
  },
  {
   "cell_type": "code",
   "execution_count": null,
   "id": "9f114175",
   "metadata": {},
   "outputs": [],
   "source": [
    "data['diameter'].value_counts()"
   ]
  },
  {
   "cell_type": "code",
   "execution_count": null,
   "id": "6a210acd",
   "metadata": {},
   "outputs": [],
   "source": [
    "print(data['diameter'].value_counts())"
   ]
  },
  {
   "cell_type": "code",
   "execution_count": null,
   "id": "18a45c05",
   "metadata": {},
   "outputs": [],
   "source": [
    "data.columns"
   ]
  },
  {
   "cell_type": "code",
   "execution_count": null,
   "id": "edda6029",
   "metadata": {},
   "outputs": [],
   "source": [
    "for i in data.columns:\n",
    "    print(f\"univariate analysis for {i} is below : \")\n",
    "    print(data[i].value_counts())\n",
    "    sns.countplot(data[i])\n",
    "#     import matplotlib.pyplot as plt\n",
    "    plt.hist(x=i,data=data)\n",
    "    plt.title(f\"{i}\")\n",
    "    plt.show()"
   ]
  },
  {
   "cell_type": "code",
   "execution_count": null,
   "id": "1df99055",
   "metadata": {},
   "outputs": [],
   "source": []
  },
  {
   "cell_type": "markdown",
   "id": "4ea874a6",
   "metadata": {},
   "source": [
    "#### diameter"
   ]
  },
  {
   "cell_type": "code",
   "execution_count": null,
   "id": "260e0188",
   "metadata": {},
   "outputs": [],
   "source": [
    "sns.countplot(data['diameter'])"
   ]
  },
  {
   "cell_type": "code",
   "execution_count": null,
   "id": "d4447a64",
   "metadata": {},
   "outputs": [],
   "source": [
    "sns.countplot(y=data['topping'])"
   ]
  },
  {
   "cell_type": "code",
   "execution_count": null,
   "id": "71271c39",
   "metadata": {},
   "outputs": [],
   "source": [
    "sns.countplot(y=data['variant'])"
   ]
  },
  {
   "cell_type": "code",
   "execution_count": null,
   "id": "60cbdabe",
   "metadata": {},
   "outputs": [],
   "source": [
    "sns.countplot(y=data['size'])"
   ]
  },
  {
   "cell_type": "code",
   "execution_count": null,
   "id": "ddb80f6b",
   "metadata": {},
   "outputs": [],
   "source": []
  },
  {
   "cell_type": "code",
   "execution_count": null,
   "id": "5b428b0b",
   "metadata": {},
   "outputs": [],
   "source": []
  },
  {
   "cell_type": "code",
   "execution_count": null,
   "id": "fe503b45",
   "metadata": {},
   "outputs": [],
   "source": []
  },
  {
   "cell_type": "code",
   "execution_count": null,
   "id": "cf62c0e6",
   "metadata": {},
   "outputs": [],
   "source": []
  },
  {
   "cell_type": "code",
   "execution_count": null,
   "id": "37de22c1",
   "metadata": {},
   "outputs": [],
   "source": []
  },
  {
   "cell_type": "markdown",
   "id": "84c9918e",
   "metadata": {},
   "source": [
    "### 3.12 Bivariate analysis"
   ]
  },
  {
   "cell_type": "raw",
   "id": "1061534c",
   "metadata": {},
   "source": [
    "input---output feature\n",
    "1. cat>> cat------1.crosstab 2. heatmaps 3. stacked bar charts\n",
    "2. cat>> cont ----1. boxplot 2. violin plt 3. swam plt 4. count plt 5. bar plot\n",
    "3. cont >> cont ---1. scatter plot 2. line plots"
   ]
  },
  {
   "cell_type": "raw",
   "id": "9356f3f7",
   "metadata": {},
   "source": [
    "## price vs company "
   ]
  },
  {
   "cell_type": "code",
   "execution_count": null,
   "id": "20073318",
   "metadata": {},
   "outputs": [],
   "source": [
    "data.columns"
   ]
  },
  {
   "cell_type": "code",
   "execution_count": null,
   "id": "d732eead",
   "metadata": {},
   "outputs": [],
   "source": [
    "sns.barplot(data['company'],data['Price'])"
   ]
  },
  {
   "cell_type": "markdown",
   "id": "e16fd579",
   "metadata": {},
   "source": [
    "### price by topping "
   ]
  },
  {
   "cell_type": "code",
   "execution_count": null,
   "id": "62c1f098",
   "metadata": {},
   "outputs": [],
   "source": [
    "sns.barplot(y=data['topping'],x=data['Price'])"
   ]
  },
  {
   "cell_type": "code",
   "execution_count": null,
   "id": "e1395680",
   "metadata": {},
   "outputs": [],
   "source": [
    "sns.boxplot(y=data['topping'],x=data['Price'])"
   ]
  },
  {
   "cell_type": "markdown",
   "id": "32013e11",
   "metadata": {},
   "source": [
    "## find most expensive pizza"
   ]
  },
  {
   "cell_type": "code",
   "execution_count": null,
   "id": "7a9730a1",
   "metadata": {},
   "outputs": [],
   "source": [
    "data['Price'].max()"
   ]
  },
  {
   "cell_type": "code",
   "execution_count": null,
   "id": "a5bce4ac",
   "metadata": {},
   "outputs": [],
   "source": [
    "data[data['Price'].max()==data['Price']]"
   ]
  },
  {
   "cell_type": "markdown",
   "id": "4c306f4a",
   "metadata": {},
   "source": [
    "### find diameter of jumbo size pizza "
   ]
  },
  {
   "cell_type": "code",
   "execution_count": null,
   "id": "d94d8460",
   "metadata": {},
   "outputs": [],
   "source": [
    "data[data['size']=='jumbo']"
   ]
  },
  {
   "cell_type": "code",
   "execution_count": null,
   "id": "b5e8f322",
   "metadata": {},
   "outputs": [],
   "source": [
    "data[data['size']=='jumbo']['diameter'].head()"
   ]
  },
  {
   "cell_type": "markdown",
   "id": "284e4fb5",
   "metadata": {},
   "source": [
    "### find diameter of XL size pizzas"
   ]
  },
  {
   "cell_type": "code",
   "execution_count": null,
   "id": "7295f3fd",
   "metadata": {},
   "outputs": [],
   "source": [
    "data[data['size']=='jumbo']['diameter'].head()"
   ]
  },
  {
   "cell_type": "markdown",
   "id": "f1d52c92",
   "metadata": {},
   "source": [
    "### lets remove outliers"
   ]
  },
  {
   "cell_type": "code",
   "execution_count": null,
   "id": "7d4698db",
   "metadata": {},
   "outputs": [],
   "source": [
    "data[(data['size']=='jumbo')&(data['diameter']<=16)]"
   ]
  },
  {
   "cell_type": "code",
   "execution_count": null,
   "id": "3d814a4b",
   "metadata": {},
   "outputs": [],
   "source": [
    "data=data.drop(data.index[[6,11,16,80]])"
   ]
  },
  {
   "cell_type": "code",
   "execution_count": null,
   "id": "6f1697cb",
   "metadata": {},
   "outputs": [],
   "source": [
    "data[(data['size']=='jumbo')&(data['diameter']<=16)]"
   ]
  },
  {
   "cell_type": "markdown",
   "id": "ae2f23a0",
   "metadata": {},
   "source": [
    "#### label encoding "
   ]
  },
  {
   "cell_type": "code",
   "execution_count": null,
   "id": "2e0c6cb8",
   "metadata": {},
   "outputs": [],
   "source": [
    "cat_cols=data.select_dtypes(include=['object']).columns\n",
    "cat_cols"
   ]
  },
  {
   "cell_type": "code",
   "execution_count": null,
   "id": "eb4e1fae",
   "metadata": {},
   "outputs": [],
   "source": [
    "data.info()"
   ]
  },
  {
   "cell_type": "code",
   "execution_count": null,
   "id": "04fdb149",
   "metadata": {},
   "outputs": [],
   "source": [
    "cont_cols=data.select_dtypes(include=['float64','float32']).columns\n",
    "cont_cols"
   ]
  },
  {
   "cell_type": "code",
   "execution_count": null,
   "id": "279d7760",
   "metadata": {},
   "outputs": [],
   "source": [
    "from sklearn.preprocessing import LabelEncoder\n",
    "le=LabelEncoder()"
   ]
  },
  {
   "cell_type": "code",
   "execution_count": null,
   "id": "ccf0887e",
   "metadata": {},
   "outputs": [],
   "source": [
    "for i in cat_cols:\n",
    "    data[i]=le.fit_transform(data[i])\n",
    "    \n",
    "data.head()"
   ]
  },
  {
   "cell_type": "markdown",
   "id": "82f054b8",
   "metadata": {},
   "source": [
    "# Step 4: Feature Engineering"
   ]
  },
  {
   "cell_type": "markdown",
   "id": "f9589a6f",
   "metadata": {},
   "source": [
    "### 4.1 check numerical feature and categorical features"
   ]
  },
  {
   "cell_type": "code",
   "execution_count": null,
   "id": "468bb5a2",
   "metadata": {},
   "outputs": [],
   "source": [
    "type_frame=pd.DataFrame(data=data.dtypes,columns=['Type'])\n",
    "type_frame.transpose()"
   ]
  },
  {
   "cell_type": "markdown",
   "id": "7fecbc54",
   "metadata": {},
   "source": [
    "# Step 5: Feature Selection"
   ]
  },
  {
   "cell_type": "markdown",
   "id": "1c2aa5e3",
   "metadata": {},
   "source": [
    "*"
   ]
  },
  {
   "cell_type": "markdown",
   "id": "08feabcd",
   "metadata": {},
   "source": [
    "## Step 6: Model Training"
   ]
  },
  {
   "cell_type": "markdown",
   "id": "c860aaec",
   "metadata": {},
   "source": [
    "### 6.1 Splitting the data"
   ]
  },
  {
   "cell_type": "code",
   "execution_count": null,
   "id": "75455d61",
   "metadata": {},
   "outputs": [],
   "source": [
    "data.columns"
   ]
  },
  {
   "cell_type": "code",
   "execution_count": null,
   "id": "9197edea",
   "metadata": {},
   "outputs": [],
   "source": [
    "x=data.drop('Price',axis=1)\n",
    "y=data['Price']"
   ]
  },
  {
   "cell_type": "code",
   "execution_count": null,
   "id": "df86b0c6",
   "metadata": {},
   "outputs": [],
   "source": [
    "x"
   ]
  },
  {
   "cell_type": "code",
   "execution_count": null,
   "id": "5a22b7fb",
   "metadata": {},
   "outputs": [],
   "source": [
    "y"
   ]
  },
  {
   "cell_type": "markdown",
   "id": "930fc4f6",
   "metadata": {},
   "source": [
    "### 6.2 Train/Test split"
   ]
  },
  {
   "cell_type": "code",
   "execution_count": null,
   "id": "ed21c943",
   "metadata": {},
   "outputs": [],
   "source": [
    "from sklearn.model_selection import train_test_split\n",
    "x_train,x_test,y_train,y_test=train_test_split(x,y,test_size=0.2,random_state=42)\n",
    "\n",
    "print(f\"shape of independent feature training dataset is {x_train.shape}\")\n",
    "print(f\"shape of independent feature training dataset is {x_test.shape}\")\n",
    "print(f\"shape of dependent feature training dataset is {y_train.shape}\")\n",
    "print(f\"shape of dependent feature training dataset is {y_test.shape}\")"
   ]
  },
  {
   "cell_type": "markdown",
   "id": "9e4da0a3",
   "metadata": {},
   "source": [
    "### 6.3 Import the model"
   ]
  },
  {
   "cell_type": "code",
   "execution_count": null,
   "id": "27403b13",
   "metadata": {},
   "outputs": [],
   "source": [
    "# regression\n",
    "\n",
    "from sklearn.linear_model import LinearRegression\n",
    "lr=LinearRegression()\n",
    "\n",
    "from sklearn.svm import SVR\n",
    "svr=SVR()\n",
    "\n",
    "from sklearn.ensemble import RandomForestRegressor\n",
    "rf=RandomForestRegressor()\n",
    "\n",
    "from sklearn.ensemble import GradientBoostingRegressor\n",
    "gbr=GradientBoostingRegressor()\n",
    "\n",
    "from sklearn.tree import DecisionTreeRegressor\n",
    "dt=DecisionTreeRegressor()\n",
    "\n",
    "# from xgboost import XGBRegressor\n",
    "# xgb=XGBRegressor()"
   ]
  },
  {
   "cell_type": "markdown",
   "id": "abadf08b",
   "metadata": {},
   "source": [
    "### 6.4 Model training"
   ]
  },
  {
   "cell_type": "code",
   "execution_count": null,
   "id": "826e10da",
   "metadata": {},
   "outputs": [],
   "source": [
    "lr.fit(x_train,y_train)\n",
    "svr.fit(x_train,y_train)\n",
    "rf.fit(x_train,y_train)\n",
    "dt.fit(x_train,y_train)\n",
    "gbr.fit(x_train,y_train)"
   ]
  },
  {
   "cell_type": "markdown",
   "id": "af7e6eca",
   "metadata": {},
   "source": [
    "## Step 7: Model Evaluation "
   ]
  },
  {
   "cell_type": "markdown",
   "id": "109aa714",
   "metadata": {},
   "source": [
    "### 7.1 Predict on test data"
   ]
  },
  {
   "cell_type": "code",
   "execution_count": null,
   "id": "357511da",
   "metadata": {},
   "outputs": [],
   "source": [
    "y_pred_lr=lr.predict(x_test)\n",
    "y_pred_svr=svr.predict(x_test)\n",
    "y_pred_rf=rf.predict(x_test)\n",
    "y_pred_dt=dt.predict(x_test)\n",
    "y_pred_gbr=gbr.predict(x_test)"
   ]
  },
  {
   "cell_type": "markdown",
   "id": "492c2034",
   "metadata": {},
   "source": [
    "### 7.2 Evaluate the model accuarcy"
   ]
  },
  {
   "cell_type": "code",
   "execution_count": null,
   "id": "cff47e9a",
   "metadata": {},
   "outputs": [],
   "source": [
    "from sklearn.metrics import r2_score"
   ]
  },
  {
   "cell_type": "code",
   "execution_count": null,
   "id": "00166797",
   "metadata": {},
   "outputs": [],
   "source": [
    "r2_score_lr=r2_score(y_test,y_pred_lr)\n",
    "r2_score_svr=r2_score(y_test,y_pred_svr)\n",
    "r2_score_rf=r2_score(y_test,y_pred_rf)\n",
    "r2_score_dt=r2_score(y_test,y_pred_dt)\n",
    "r2_score_gbr=r2_score(y_test,y_pred_gbr)"
   ]
  },
  {
   "cell_type": "code",
   "execution_count": null,
   "id": "f7149f9b",
   "metadata": {},
   "outputs": [],
   "source": [
    "r2_data=pd.DataFrame({'models':['LR','SVR','RF','DT','GBR'],\n",
    "                        'ACC':[r2_score(y_test,y_pred_lr),\n",
    "                               r2_score(y_test,y_pred_svr),\n",
    "                               r2_score(y_test,y_pred_rf),\n",
    "                               r2_score(y_test,y_pred_dt),\n",
    "                               r2_score(y_test,y_pred_gbr)]})\n",
    "\n",
    "r2_data"
   ]
  },
  {
   "cell_type": "code",
   "execution_count": null,
   "id": "2b25e616",
   "metadata": {},
   "outputs": [],
   "source": [
    "sns.barplot(r2_data['models'],r2_data['ACC'])"
   ]
  },
  {
   "cell_type": "code",
   "execution_count": null,
   "id": "5fa73695",
   "metadata": {},
   "outputs": [],
   "source": [
    "rf.feature_importances_"
   ]
  },
  {
   "cell_type": "code",
   "execution_count": null,
   "id": "48dfa553",
   "metadata": {},
   "outputs": [],
   "source": [
    "fea=pd.Series(rf.feature_importances_,index=x.columns)\n",
    "fea"
   ]
  },
  {
   "cell_type": "code",
   "execution_count": null,
   "id": "fbf69b70",
   "metadata": {},
   "outputs": [],
   "source": [
    "fegbr=pd.Series(gbr.feature_importances_,index=x.columns)\n",
    "fegbr"
   ]
  },
  {
   "cell_type": "markdown",
   "id": "fe837f04",
   "metadata": {},
   "source": [
    "### 7.5 Final Model selection"
   ]
  },
  {
   "cell_type": "code",
   "execution_count": null,
   "id": "09d824be",
   "metadata": {},
   "outputs": [],
   "source": [
    "rf=RandomForestRegressor()"
   ]
  },
  {
   "cell_type": "markdown",
   "id": "199ed3c5",
   "metadata": {},
   "source": [
    "### 7.6 Train model on complete dataset"
   ]
  },
  {
   "cell_type": "code",
   "execution_count": null,
   "id": "b9e03e73",
   "metadata": {},
   "outputs": [],
   "source": [
    "rf.fit(x,y)"
   ]
  },
  {
   "cell_type": "markdown",
   "id": "abb41c62",
   "metadata": {},
   "source": [
    "### 7.7 Create user test function "
   ]
  },
  {
   "cell_type": "code",
   "execution_count": null,
   "id": "d26a59bb",
   "metadata": {},
   "outputs": [],
   "source": [
    "x.columns"
   ]
  },
  {
   "cell_type": "code",
   "execution_count": null,
   "id": "51baafc8",
   "metadata": {},
   "outputs": [],
   "source": [
    "x.head(1)"
   ]
  },
  {
   "cell_type": "code",
   "execution_count": null,
   "id": "b1317b94",
   "metadata": {},
   "outputs": [],
   "source": [
    "y.head(1)"
   ]
  },
  {
   "cell_type": "code",
   "execution_count": null,
   "id": "bc5edf84",
   "metadata": {},
   "outputs": [],
   "source": [
    "a=input(\"enter value for company : \")\n",
    "b=input(\"enter value for diameter : \")\n",
    "c=input(\"enter value for topping : \")\n",
    "d=input(\"enter value for variant : \")\n",
    "e=input(\"enter value for size : \")\n",
    "f=input(\"enter value for extra_sauce : \")\n",
    "g=input(\"enter value for extra_cheese : \")\n",
    "\n",
    "new_data=pd.DataFrame({'company': a,\n",
    "                       'diameter':b, \n",
    "                       'topping':c, \n",
    "                       'variant':d, \n",
    "                       'size':e,\n",
    "                       'extra_sauce':f, \n",
    "                       'extra_cheese':g, \n",
    "                       \n",
    "    \n",
    "},index=[0])\n",
    "p=rf.predict(new_data)\n",
    "\n",
    "print(f\"pizza expected cost is  here : rupees{p} \")\n",
    "\n",
    "if p[0]<=0:\n",
    "    print(\"enter values are not proper please try again \")\n",
    "else:\n",
    "    print(\"thank for using this .\")"
   ]
  },
  {
   "cell_type": "markdown",
   "id": "3ffbc197",
   "metadata": {},
   "source": [
    "### 7.8 Save the model"
   ]
  },
  {
   "cell_type": "markdown",
   "id": "647542f6",
   "metadata": {},
   "source": [
    "#### Saving final algorithm"
   ]
  },
  {
   "cell_type": "code",
   "execution_count": null,
   "id": "b4325cb8",
   "metadata": {},
   "outputs": [],
   "source": [
    "rf=RandomForestRegressor()\n",
    "rf.fit(x,y)"
   ]
  },
  {
   "cell_type": "markdown",
   "id": "a79c959f",
   "metadata": {},
   "source": [
    "#### Creating pickle file"
   ]
  },
  {
   "cell_type": "code",
   "execution_count": null,
   "id": "57f67d1e",
   "metadata": {},
   "outputs": [],
   "source": [
    "import pickle\n",
    "# open a file, where you ant to store the data\n",
    "file = open('prabhat_pizza_price_pred_rf.pkl', 'wb')\n",
    "\n",
    "# dump information to that file\n",
    "pickle.dump(rf, file)"
   ]
  },
  {
   "cell_type": "markdown",
   "id": "f48906aa",
   "metadata": {},
   "source": [
    "#### Loading pickle file"
   ]
  },
  {
   "cell_type": "code",
   "execution_count": null,
   "id": "3d565a12",
   "metadata": {},
   "outputs": [],
   "source": [
    "model = pickle.load(open('prabhat_pizza_price_pred_rf.pkl', 'rb'))"
   ]
  },
  {
   "cell_type": "code",
   "execution_count": null,
   "id": "0eed583a",
   "metadata": {},
   "outputs": [],
   "source": [
    "r=x.head(1)\n",
    "print(f\"data for testing \\n{r}\")\n",
    "print(f\"result of testing data \\n{y.head(1)}\")\n",
    "result=model.predict(r)\n",
    "print(f\"result of prediction is \\n{result}\")"
   ]
  },
  {
   "cell_type": "code",
   "execution_count": null,
   "id": "8d57978a",
   "metadata": {},
   "outputs": [],
   "source": [
    "result1=model.predict([[0,22.0,2,8,1,1,1]])\n",
    "result1"
   ]
  },
  {
   "cell_type": "markdown",
   "id": "c072aeeb",
   "metadata": {},
   "source": [
    "## Step 8: API Creation"
   ]
  },
  {
   "cell_type": "markdown",
   "id": "58904e55",
   "metadata": {},
   "source": [
    "### 1. Creating GUI "
   ]
  },
  {
   "cell_type": "code",
   "execution_count": null,
   "id": "0512b438",
   "metadata": {},
   "outputs": [],
   "source": [
    "from tkinter import *\n",
    "import joblib\n",
    "\n",
    "def show_entry():\n",
    "    p1=float(e1.get())\n",
    "    p2=float(e2.get())\n",
    "    p3=float(e3.get())\n",
    "    p4=float(e4.get())\n",
    "    p5=float(e5.get())\n",
    "    p6=float(e6.get())\n",
    "    p7=float(e5.get())\n",
    "    \n",
    "    \n",
    "    model = pickle.load(open('prabhat_pizza_price_pred_rf.pkl', 'rb'))\n",
    "    result=model.predict([[p1,p2,p3,p4,p5,p6,p7]])\n",
    "    \n",
    "    Label(master,text=\"pizza expected price\").grid(row=10)\n",
    "    Label(master,text=result).grid(row=11)\n",
    "\n",
    "\n",
    "master=Tk()\n",
    "master.title(\"pizza price Prediction: \")\n",
    "label=Label(master,text= \"prabhat pizza price prediction\",bg=\"black\", fg=\"white\").grid(row=0,columnspan=2)\n",
    "\n",
    "\n",
    "#  'company', 'diameter', 'topping', 'variant', 'size', 'extra_sauce',\n",
    "#        'extra_cheese'      \n",
    "\n",
    "Label(master,text = \"Enter your 'company' \").grid(row=1)\n",
    "Label(master,text=\"Enter 'diameter'\").grid(row=2)\n",
    "Label(master,text=\"Enter 'topping'\").grid(row=3)\n",
    "Label(master,text=\"Enter 'variant'\" ).grid(row=4)\n",
    "Label(master,text=\"Enter 'size' \").grid(row=5)\n",
    "Label(master,text=\"Enter 'extra_sauce' \").grid(row=6)\n",
    "Label(master,text=\"Enter 'extra_cheese'\").grid(row=7)\n",
    "\n",
    "\n",
    "e1=Entry(master)\n",
    "e2=Entry(master)\n",
    "e3=Entry(master)\n",
    "e4=Entry(master)\n",
    "e5=Entry(master)\n",
    "e6=Entry(master)\n",
    "e7=Entry(master)\n",
    "\n",
    "\n",
    "e1.grid(row=1,column=1)\n",
    "e2.grid(row=2,column=1)\n",
    "e3.grid(row=3,column=1)\n",
    "e4.grid(row=4,column=1)\n",
    "e5.grid(row=5,column=1)\n",
    "e6.grid(row=6,column=1)\n",
    "e7.grid(row=7,column=1)\n",
    "\n",
    "\n",
    "\n",
    "Button(master,text='Predict',command=show_entry).grid()\n",
    "\n",
    "# mainloop()\n",
    "master.mainloop()"
   ]
  }
 ],
 "metadata": {
  "kernelspec": {
   "display_name": "Python 3 (ipykernel)",
   "language": "python",
   "name": "python3"
  },
  "language_info": {
   "codemirror_mode": {
    "name": "ipython",
    "version": 3
   },
   "file_extension": ".py",
   "mimetype": "text/x-python",
   "name": "python",
   "nbconvert_exporter": "python",
   "pygments_lexer": "ipython3",
   "version": "3.9.12"
  }
 },
 "nbformat": 4,
 "nbformat_minor": 5
}
